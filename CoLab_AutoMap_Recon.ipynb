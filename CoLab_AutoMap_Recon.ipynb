{
 "cells": [
  {
   "cell_type": "markdown",
   "metadata": {
    "colab_type": "text",
    "id": "view-in-github"
   },
   "source": [
    "[View in Colaboratory](https://colab.research.google.com/github/kmjohnson3/ML4MI_BootCamp/blob/master/ImageReconstruction/CoLab_AutoMap_Recon.ipynb)"
   ]
  },
  {
   "cell_type": "markdown",
   "metadata": {
    "colab_type": "text",
    "id": "sQfkzl7ZyVIO"
   },
   "source": [
    "This is an MRI based reconstruction demo, for 2D MRI data. The network is relatively similar to the recent AutoMap technique (https://arxiv.org/abs/1704.08841). This is a relatively 'brute force' aproach to image reconstruction in which the transoform is given no direct knowledge of the physics (although the network architecture is a bit tuned to the problem). In this work, we are assuming one direction is fully sampled (i.e. frequency encoded).\n",
    "\n",
    "# MRI Sampling\n",
    "In MRI the data is often discretely Fourier transoformed in one direction leading to the discretized signal model:\n",
    "\n",
    "$s(k)=\\sum_{j=1}^{N}\\rho (x_j)e^{i2\\pi kx}$\n",
    "\n",
    "The expected reconstruction for fully sampled data is an inverse discrete Fourier transform:\n",
    "\n",
    "$s(x)=\\sum_{j=1}^{N}s(k_j)e^{i2\\pi k_j x}$\n",
    "\n",
    "# Questions to think about:\n",
    "1) What is the minimal network architecture to compute a DFT?\n",
    "\n",
    "2) What is the apropriate loss function?\n",
    "\n",
    "3) What is the role of the convolutional layers? When are they needed?\n",
    "\n",
    "4) What is the network learning if you train on natural images?\n"
   ]
  },
  {
   "cell_type": "code",
   "execution_count": 1,
   "metadata": {
    "colab": {},
    "colab_type": "code",
    "id": "JEeJpTYyyVIQ"
   },
   "outputs": [],
   "source": [
    "''' \n",
    "In python you need to import libraries in order to use them. \n",
    "'''\n",
    "\n",
    "# Import tensorflow ( we will use keras from tensorflow)\n",
    "import tensorflow as tf\n",
    "\n",
    "# Load Keras\n",
    "import tensorflow.keras\n",
    "from tensorflow.keras.layers import Input, Dense, Conv1D, Flatten, Reshape\n",
    "from tensorflow.keras.models import Model\n",
    "\n",
    "# Utilities\n",
    "import numpy as np\n",
    "import math \n",
    "\n",
    "# Plotting\n",
    "import matplotlib.pyplot as plt\n",
    "from IPython.display import clear_output\n"
   ]
  },
  {
   "cell_type": "markdown",
   "metadata": {
    "colab_type": "text",
    "id": "vi9ablPpyVIT"
   },
   "source": [
    "# Training Images\n",
    "We are trainging this network using a simulation enviroment. Images are grabbed from a very common database of pictures of animals. We then simulate the image to MRI raw data conversion. Cifar100 is a set of 32x32 RGB images which is available from the Keras datasets api. We are discarding the labels."
   ]
  },
  {
   "cell_type": "code",
   "execution_count": 3,
   "metadata": {
    "colab": {},
    "colab_type": "code",
    "id": "wkyR05heyVIV"
   },
   "outputs": [
    {
     "name": "stderr",
     "output_type": "stream",
     "text": [
      "Using TensorFlow backend.\n"
     ]
    },
    {
     "name": "stdout",
     "output_type": "stream",
     "text": [
      "Downloading data from https://www.cs.toronto.edu/~kriz/cifar-100-python.tar.gz\n",
      "169009152/169001437 [==============================] - 98s 1us/step\n",
      "Dimensions of x_train are (50000, 32, 32)[ Examples x Nx x Ny x Channels]\n",
      "Dimensions of x_test  are (10000, 32, 32)[ Examples x Nx x Ny x Channels]\n"
     ]
    }
   ],
   "source": [
    "# Download some data (using natural images)\n",
    "from keras.datasets import cifar100\n",
    "(x_train, _ ), (x_test, _) = cifar100.load_data(label_mode='fine')\n",
    "\n",
    "#Convert x_train to float32,grayscale\n",
    "x_train = x_train.astype('float32')\n",
    "x_train =1/255*( 0.299*(x_train[:,:,:,0]) + 0.587*(x_train[:,:,:,1]) +  0.114*(x_train[:,:,:,2]) )\n",
    "\n",
    "#Convert x_test to float32,grayscale \n",
    "x_test = x_test.astype('float32')\n",
    "x_test =1/255*( 0.299*(x_test[:,:,:,0]) + 0.587*(x_test[:,:,:,1]) +  0.114*(x_test[:,:,:,2]) )\n",
    "\n",
    "# Show stats of images\n",
    "print('Dimensions of x_train are ' + str(x_train.shape) + '[ Examples x Nx x Ny x Channels]')\n",
    "print('Dimensions of x_test  are ' + str(x_test.shape) + '[ Examples x Nx x Ny x Channels]')"
   ]
  },
  {
   "cell_type": "code",
   "execution_count": 4,
   "metadata": {
    "colab": {},
    "colab_type": "code",
    "id": "b-GYZ_9yyVIX"
   },
   "outputs": [],
   "source": [
    "# This is a montage maker along 1st dim\n",
    "def montage( img_in, size=(3,5) ):\n",
    "    for j in range(size[0]):\n",
    "        plot_image = img_in[0+size[1]*j,:,:]\n",
    "        for i in range(size[1]-1):\n",
    "            plot_image = np.concatenate((plot_image, img_in[1+i+size[1]*j,:,:]), axis=1)\n",
    "        \n",
    "        if j == 0:\n",
    "            img = plot_image\n",
    "        else:\n",
    "            img = np.concatenate((img,plot_image),axis=0)\n",
    "    return img"
   ]
  },
  {
   "cell_type": "markdown",
   "metadata": {
    "colab_type": "text",
    "id": "JdaPO4_syVIa"
   },
   "source": [
    "# Simulate Sampling\n",
    "MRI data generation is aproximately dsicrete sampling of a continous Fourier transform the the data. In this example, we are using a Discrete Fourier transform to aproximate this. We also consider the case when we randomly remove data points. This would allow us to go faster and is used in compressed sensing application ( e.g. https://onlinelibrary.wiley.com/doi/pdf/10.1002/mrm.21391 ). Noise is added a complex, white, gaussian noise (MRI noise is so called Johnson/Nyquist noise). Things to try:\n",
    "\n",
    "1) Add higher levels of noise. What happens to the training rate and output images? \n",
    "\n",
    "2) Increase the undersampling rate. How does the neural network compare to traditional aproaches? \n",
    "\n",
    "3) Comment the FFT shift, does the network still learn the transform?"
   ]
  },
  {
   "cell_type": "code",
   "execution_count": 5,
   "metadata": {
    "colab": {},
    "colab_type": "code",
    "id": "7XdM9OkvyVIc"
   },
   "outputs": [],
   "source": [
    "'''\n",
    "Fourier transform in 3rd dimension (Ny) followed by an FFT shift \n",
    "'''\n",
    "kspace_train = np.fft.fftn(x_train,axes=(2,))/32\n",
    "kspace_train = np.fft.fftshift(kspace_train,axes=(2,))\n",
    "\n",
    "kspace_test = np.fft.fftn(x_test,axes=(2,))/32\n",
    "kspace_test = np.fft.fftshift(kspace_test,axes=(2,))"
   ]
  },
  {
   "cell_type": "code",
   "execution_count": 6,
   "metadata": {
    "colab": {},
    "colab_type": "code",
    "id": "mJ9OD0wQyVIe"
   },
   "outputs": [
    {
     "name": "stdout",
     "output_type": "stream",
     "text": [
      "Using 32 phase encode\n",
      "1\n",
      "2\n",
      "3\n",
      "4\n",
      "5\n",
      "6\n"
     ]
    }
   ],
   "source": [
    "'''\n",
    "The creates a sampling mask which can be used to subsample the data.\n",
    "'''\n",
    "\n",
    "# Get the number of phase encodes\n",
    "undersample_factor = 1.0 # 1.5 for challenge\n",
    "number_phase_encodes = int(32/undersample_factor)\n",
    "print('Using ' + str(number_phase_encodes) + ' phase encode')\n",
    "\n",
    "# Create a random mask to resample the data\n",
    "idx = np.full(32, False)\n",
    "print(1)\n",
    "idx[:number_phase_encodes] = True\n",
    "print(2)\n",
    "np.random.shuffle(idx)\n",
    "print(3)\n",
    "sampling_mask = idx\n",
    "print(4)\n",
    "# Subsample\n",
    "kspace_train = kspace_train[:,:,sampling_mask]\n",
    "print(5)\n",
    "kspace_test = kspace_test[:,:,sampling_mask]\n",
    "print(6)"
   ]
  },
  {
   "cell_type": "code",
   "execution_count": 7,
   "metadata": {
    "colab": {},
    "colab_type": "code",
    "id": "LB9svNunyVIh"
   },
   "outputs": [],
   "source": [
    "'''\n",
    "Add noise \n",
    "'''\n",
    "# Note this is usually a pretty low number\n",
    "noise_level = 0.001; \n",
    "kspace_train = kspace_train + noise_level*( np.random.randn(*kspace_train.shape) + 1J * np.random.randn(*kspace_train.shape) )\n",
    "kspace_test = kspace_test +  noise_level*( np.random.randn(*kspace_test.shape) + 1J * np.random.randn(*kspace_test.shape) )"
   ]
  },
  {
   "cell_type": "code",
   "execution_count": 8,
   "metadata": {
    "colab": {},
    "colab_type": "code",
    "id": "rypEBBdfyVIl"
   },
   "outputs": [
    {
     "data": {
      "image/png": "[encoded data removed]",
      "text/plain": [
       "<Figure size 432x288 with 2 Axes>"
      ]
     },
     "metadata": {
      "needs_background": "light"
     },
     "output_type": "display_data"
    }
   ],
   "source": [
    "# Show one image and k-space pair(should be whale)\n",
    "img = x_train[400,:,:];\n",
    "\n",
    "plt.figure()\n",
    "plt.subplot(121)\n",
    "plt.imshow(img,cmap='gray')\n",
    "plt.title('Grayscale')\n",
    "img = kspace_train[400,:,:];\n",
    "\n",
    "plt.subplot(122)\n",
    "plt.imshow(np.abs(img),cmap='gray')\n",
    "plt.title('K-Space (1D FFT)')\n",
    "plt.show()"
   ]
  },
  {
   "cell_type": "markdown",
   "metadata": {
    "colab_type": "text",
    "id": "7D40pHkhyVIn"
   },
   "source": [
    "# Reshape for training"
   ]
  },
  {
   "cell_type": "code",
   "execution_count": 9,
   "metadata": {
    "colab": {},
    "colab_type": "code",
    "id": "aMZCwyJSyVIo"
   },
   "outputs": [
    {
     "name": "stdout",
     "output_type": "stream",
     "text": [
      "Dimensions of training data are(1600000, 32, 2)[ Examples x Ny x Channels]\n"
     ]
    },
    {
     "data": {
      "image/png": "[encoded data removed]",
      "text/plain": [
       "<Figure size 720x360 with 2 Axes>"
      ]
     },
     "metadata": {
      "needs_background": "light"
     },
     "output_type": "display_data"
    }
   ],
   "source": [
    "# Now lets collapse one dimension to get 1D data\n",
    "image_for_training = x_train.reshape((-1,32))\n",
    "image_for_testing = x_test.reshape((-1,32))\n",
    "\n",
    "image_for_training = np.expand_dims(image_for_training,2)\n",
    "image_for_testing = np.expand_dims(image_for_testing,2)\n",
    "\n",
    "kspace_for_training= kspace_train.reshape((-1,number_phase_encodes))\n",
    "kspace_for_testing= kspace_test.reshape((-1,number_phase_encodes))\n",
    "\n",
    "\n",
    "#Convert k-space to Real/Imag to channels \n",
    "kspace_for_training =np.stack( (kspace_for_training.real, kspace_for_training.imag), axis=2)\n",
    "kspace_for_testing =np.stack( (kspace_for_testing.real, kspace_for_testing.imag), axis=2)\n",
    "print('Dimensions of training data are' + str(kspace_for_training.shape) + '[ Examples x Ny x Channels]')\n",
    "\n",
    "# Plot a line in k-space\n",
    "plt.figure(figsize=(10,5))\n",
    "plt.subplot(121)\n",
    "plt.plot(kspace_for_training[400,:])\n",
    "plt.title('Kspace [real/imag]')\n",
    "plt.subplot(122)\n",
    "plt.plot(image_for_training[400,:])\n",
    "plt.title('Image')\n",
    "plt.show()"
   ]
  },
  {
   "cell_type": "markdown",
   "metadata": {
    "colab_type": "text",
    "id": "NYe5C1eayVIq"
   },
   "source": [
    "# Build the network architecture"
   ]
  },
  {
   "cell_type": "code",
   "execution_count": 11,
   "metadata": {
    "colab": {},
    "colab_type": "code",
    "id": "WEykndHfyVIr"
   },
   "outputs": [
    {
     "name": "stdout",
     "output_type": "stream",
     "text": [
      "__________________________________________________________________________________________________\n",
      "Layer (type)                    Output Shape         Param #     Connected to                     \n",
      "==================================================================================================\n",
      "input_2 (InputLayer)            (None, 32, 2)        0                                            \n",
      "__________________________________________________________________________________________________\n",
      "flatten_1 (Flatten)             (None, 64)           0           input_2[0][0]                    \n",
      "__________________________________________________________________________________________________\n",
      "dense_2 (Dense)                 (None, 64)           4160        flatten_1[0][0]                  \n",
      "__________________________________________________________________________________________________\n",
      "dense_3 (Dense)                 (None, 32)           2080        dense_2[0][0]                    \n",
      "__________________________________________________________________________________________________\n",
      "reshape_1 (Reshape)             (None, 32, 1)        0           dense_3[0][0]                    \n",
      "__________________________________________________________________________________________________\n",
      "conv1d_13 (Conv1D)              (None, 32, 15)       60          reshape_1[0][0]                  \n",
      "__________________________________________________________________________________________________\n",
      "conv1d_14 (Conv1D)              (None, 32, 15)       690         conv1d_13[0][0]                  \n",
      "__________________________________________________________________________________________________\n",
      "conv1d_15 (Conv1D)              (None, 32, 15)       690         conv1d_14[0][0]                  \n",
      "__________________________________________________________________________________________________\n",
      "max_pooling1d_2 (MaxPooling1D)  (None, 16, 15)       0           conv1d_15[0][0]                  \n",
      "__________________________________________________________________________________________________\n",
      "conv1d_16 (Conv1D)              (None, 16, 30)       1380        max_pooling1d_2[0][0]            \n",
      "__________________________________________________________________________________________________\n",
      "conv1d_17 (Conv1D)              (None, 16, 30)       2730        conv1d_16[0][0]                  \n",
      "__________________________________________________________________________________________________\n",
      "conv1d_18 (Conv1D)              (None, 16, 30)       2730        conv1d_17[0][0]                  \n",
      "__________________________________________________________________________________________________\n",
      "max_pooling1d_3 (MaxPooling1D)  (None, 8, 30)        0           conv1d_18[0][0]                  \n",
      "__________________________________________________________________________________________________\n",
      "conv1d_19 (Conv1D)              (None, 8, 32)        2912        max_pooling1d_3[0][0]            \n",
      "__________________________________________________________________________________________________\n",
      "conv1d_20 (Conv1D)              (None, 8, 32)        3104        conv1d_19[0][0]                  \n",
      "__________________________________________________________________________________________________\n",
      "conv1d_21 (Conv1D)              (None, 8, 32)        3104        conv1d_20[0][0]                  \n",
      "__________________________________________________________________________________________________\n",
      "up_sampling1d_2 (UpSampling1D)  (None, 16, 32)       0           conv1d_21[0][0]                  \n",
      "__________________________________________________________________________________________________\n",
      "conv1d_22 (Conv1D)              (None, 16, 16)       1552        up_sampling1d_2[0][0]            \n",
      "__________________________________________________________________________________________________\n",
      "conv1d_23 (Conv1D)              (None, 16, 16)       784         conv1d_22[0][0]                  \n",
      "__________________________________________________________________________________________________\n",
      "conv1d_24 (Conv1D)              (None, 16, 16)       784         conv1d_23[0][0]                  \n",
      "__________________________________________________________________________________________________\n",
      "up_sampling1d_3 (UpSampling1D)  (None, 32, 16)       0           conv1d_24[0][0]                  \n",
      "__________________________________________________________________________________________________\n",
      "concatenate_1 (Concatenate)     (None, 32, 31)       0           up_sampling1d_3[0][0]            \n",
      "                                                                 conv1d_15[0][0]                  \n",
      "__________________________________________________________________________________________________\n",
      "conv1d_25 (Conv1D)              (None, 32, 1)        32          concatenate_1[0][0]              \n",
      "==================================================================================================\n",
      "Total params: 26,792\n",
      "Trainable params: 26,792\n",
      "Non-trainable params: 0\n",
      "__________________________________________________________________________________________________\n"
     ]
    }
   ],
   "source": [
    "# Build functional model\n",
    "inputs = Input(shape=(number_phase_encodes,2),dtype='float32')\n",
    "x = Flatten()(inputs)\n",
    "x = Dense(64,activation='linear',use_bias='False')(x)\n",
    "from keras import regularizers\n",
    "use_cnn = True\n",
    "if use_cnn == False:\n",
    "    x = Dense(32, activation='linear',use_bias='False')(x)\n",
    "    predictions = tensorflow.keras.layers.Reshape((32, 1))(x)\n",
    "else:\n",
    "    x = Dense(32, activation='linear',use_bias='False')(x)\n",
    "    x = tensorflow.keras.layers.Reshape((32, 1))(x)\n",
    "    \n",
    "    convolutions_per_layer = 3\n",
    "    base_filters = 15 \n",
    "    \n",
    "    # Attach a conv encoder\n",
    "    for i in range(convolutions_per_layer):\n",
    "        x = tensorflow.keras.layers.Conv1D(filters=base_filters, \n",
    "                            kernel_size=3, \n",
    "                            padding='same',\n",
    "                            kernel_regularizer=regularizers.l2(0.0001),\n",
    "                            activation='relu'\n",
    "                           )(x)\n",
    "    \n",
    "    # Save this shortcut to make training a bit easier\n",
    "    shortcut = x\n",
    "        \n",
    "    x = tensorflow.keras.layers.MaxPool1D(pool_size=2, strides=None, padding='valid')(x)\n",
    "    for i in range(convolutions_per_layer):\n",
    "        x = tensorflow.keras.layers.Conv1D(filters=base_filters*2, \n",
    "                            kernel_size=3, \n",
    "                            padding='same',\n",
    "                            kernel_regularizer=regularizers.l2(0.0001),\n",
    "                            activation='relu'\n",
    "                           )(x)\n",
    "    x = tensorflow.keras.layers.MaxPool1D(pool_size=2, strides=None, padding='valid')(x)\n",
    "    \n",
    "    '''  Image Here is Encoded'''\n",
    "    for i in range(convolutions_per_layer):\n",
    "        x = tensorflow.keras.layers.Conv1D(filters=32, \n",
    "                            kernel_size=3, \n",
    "                            strides=1, \n",
    "                            padding='same',\n",
    "                            kernel_regularizer=regularizers.l2(0.0001),\n",
    "                            activation='relu'\n",
    "                           )(x)\n",
    "    x = tensorflow.keras.layers.UpSampling1D(size=2)(x)\n",
    "    \n",
    "    for i in range(convolutions_per_layer):\n",
    "        x = tensorflow.keras.layers.Conv1D(filters=16, \n",
    "                            kernel_size=3, \n",
    "                            strides=1, \n",
    "                            padding='same',\n",
    "                            kernel_regularizer=regularizers.l2(0.0001),\n",
    "                            activation='relu'\n",
    "                           )(x)\n",
    "        \n",
    "    x = tensorflow.keras.layers.UpSampling1D(size=2)(x)\n",
    "        \n",
    "    #Add a shortcut\n",
    "    x = tensorflow.keras.layers.Concatenate()([x, shortcut])\n",
    "    \n",
    "    predictions = tensorflow.keras.layers.Conv1D(filters=1, kernel_size=1, strides=1, padding='same', activation='relu')(x)\n",
    "        \n",
    "# Setup optimizer\n",
    "adam = tensorflow.keras.optimizers.Adam(lr=0.01, beta_1=0.9, beta_2=0.999, epsilon=None, decay=0.1, amsgrad=False,clipnorm=1)\n",
    "model = Model(inputs=inputs, outputs=predictions)\n",
    "model.compile(optimizer=adam, loss='mean_squared_error')\n",
    "\n",
    "# Print a summary\n",
    "model.summary()\n"
   ]
  },
  {
   "cell_type": "markdown",
   "metadata": {
    "colab_type": "text",
    "id": "m0FarDmdyVIu"
   },
   "source": [
    "# Build a callback"
   ]
  },
  {
   "cell_type": "code",
   "execution_count": 10,
   "metadata": {
    "colab": {},
    "colab_type": "code",
    "id": "YAqhZ0b3yVIv"
   },
   "outputs": [],
   "source": [
    "'''\n",
    "    This is a traing callback that the fitting algorithm will run during training\n",
    "'''\n",
    "from keras import callbacks\n",
    "class TraingCallback(callbacks.Callback):\n",
    "    def on_train_begin(self, logs={}):\n",
    "        self.i = 0\n",
    "        self.x = []\n",
    "        self.losses = []\n",
    "        self.val_losses = []\n",
    "        self.fig = plt.figure(figsize=(10,3))\n",
    "        self.logs = []\n",
    "        self.floor_epoch = 0\n",
    "        self.batch_size = batch_size\n",
    "    \n",
    "    #def on_train_end( self, logs={}):\n",
    "        # Do nothing\n",
    "        \n",
    "    #def on_batch_begin(self, batch, logs={}): \n",
    "        # Do nothing \n",
    "        \n",
    "    def on_batch_end(self, batch, logs={}):\n",
    "        \n",
    "        if batch%1000==0:\n",
    "            self.losses.append(logs.get('loss'))\n",
    "            \n",
    "            clear_output(wait=True)\n",
    "            self.fig = plt.figure(figsize=(10,3))\n",
    "            \n",
    "                \n",
    "            # self.params\n",
    "            #{'verbose': 1, 'nb_epoch': 12, 'batch_size': 128, 'metrics': ['loss', 'acc', 'val_loss', 'val_acc'], 'nb_sample': 60000, 'do_validation': True}\n",
    "            batch_size = self.params['batch_size']\n",
    "            \n",
    "            example = np.random.randint(10000)\n",
    "            example = 400 \n",
    "        \n",
    "            '''\n",
    "                Run a test case\n",
    "            '''        \n",
    "            # Test with above image\n",
    "            kspace1image = np.stack( (kspace_test[example,:,:].real,kspace_test[example,:,:].imag),axis=2)\n",
    "            act_image = x_test[example,:,:]\n",
    "            predicted_image = model.predict(x=kspace1image)\n",
    "            plt.subplot(132)\n",
    "            plt.imshow(np.squeeze(predicted_image), cmap='gray',vmin=0,vmax=1)\n",
    "            plt.title('Predicted Image')\n",
    "            plt.axis('off')\n",
    "            \n",
    "            plt.subplot(133)\n",
    "            plt.imshow(x_test[example,:,:,],cmap='gray',vmin=0,vmax=1)\n",
    "            plt.title('True Image')\n",
    "            plt.axis('off')\n",
    "            \n",
    "            # Using just this one image to get a loss\n",
    "            temp = np.expand_dims( x_test[example,:,:],2)\n",
    "            self.val_losses.append( model.evaluate(x=kspace1image,y=temp,verbose=False))\n",
    "            \n",
    "            '''\n",
    "            Plot the Losses \n",
    "            '''\n",
    "            plt.subplot(131)\n",
    "            plt.semilogy(self.losses, label=\"Loss\")\n",
    "            plt.semilogy(self.val_losses, label=\"Loss (test image)\")\n",
    "            plt.legend()\n",
    "            \n",
    "            print('Epoch = ' + str(self.floor_epoch) + 'Loss = ' + str(logs.get('loss')) )\n",
    "            plt.show();\n",
    "            \n",
    "    def on_epoch_begin(self,epoch,logs={}):\n",
    "        self.floor_epoch = epoch\n",
    "            \n",
    "    #def on_epoch_end(self,epoch,logs={}):"
   ]
  },
  {
   "cell_type": "markdown",
   "metadata": {
    "colab_type": "text",
    "id": "VNWmO6ZLyVI0"
   },
   "source": [
    "# Run the model fit"
   ]
  },
  {
   "cell_type": "code",
   "execution_count": null,
   "metadata": {
    "colab": {},
    "colab_type": "code",
    "id": "zpLk8hSVyVI1"
   },
   "outputs": [
    {
     "name": "stdout",
     "output_type": "stream",
     "text": [
      "Epoch = 1Loss = 0.0036354123\n"
     ]
    },
    {
     "data": {
      "image/png": "[encoded data removed]",
      "text/plain": [
       "<Figure size 720x216 with 3 Axes>"
      ]
     },
     "metadata": {
      "needs_background": "light"
     },
     "output_type": "display_data"
    }
   ],
   "source": [
    "batch_size  = 256\n",
    "\n",
    "# Create the callback object \n",
    "training_callback = TraingCallback()\n",
    "\n",
    "# Run model fit\n",
    "hist = model.fit(x=kspace_for_training, # Input to NN\n",
    "                 y=image_for_training, # Expected output\n",
    "                 batch_size=batch_size, # Minibatch size\n",
    "                 epochs=10, # Times to raster through data\n",
    "                 callbacks=[training_callback],  # Run this function during training\n",
    "                 shuffle=True,\n",
    "                 verbose=False\n",
    "                );\n",
    "\n",
    "model.save(\"TrainedModel.h5\")\n",
    "\n"
   ]
  },
  {
   "cell_type": "code",
   "execution_count": null,
   "metadata": {
    "colab": {},
    "colab_type": "code",
    "id": "FItk3W_byVI4"
   },
   "outputs": [],
   "source": [
    "# Test with synthetic data\n",
    "kspace1image = np.stack( (kspace_train[400,:,:].real,kspace_train[400,:,:].imag),axis=2)\n",
    "act_image = x_train[400,:,:]\n",
    "\n",
    "print(kspace1image.shape)\n",
    "predicted_image = model.predict(x=kspace1image)\n",
    "error = model.evaluate(kspace1image,act_image.reshape(32,32,1))\n",
    "print(error)\n",
    "print(predicted_image.shape)\n",
    "\n",
    "# Plot\n",
    "plt.figure(figsize=(11, 3), dpi=80, facecolor='w', edgecolor='k')\n",
    "plt.subplot(131)\n",
    "plt.imshow(np.squeeze(predicted_image),cmap='gray',vmin=0,vmax=1)\n",
    "plt.axis('off')\n",
    "plt.colorbar()\n",
    "plt.title('Predicted')\n",
    "\n",
    "plt.subplot(132)\n",
    "plt.imshow(np.squeeze(act_image),cmap='gray',vmin=0,vmax=1)\n",
    "plt.axis('off')\n",
    "plt.colorbar()\n",
    "plt.title('True Image')\n",
    "\n",
    "plt.subplot(133)\n",
    "plt.imshow(np.squeeze(act_image-np.squeeze(predicted_image)),cmap='gray',vmin=0)\n",
    "plt.axis('off')\n",
    "plt.colorbar()\n",
    "plt.title('Difference Image')\n",
    "\n",
    "plt.show()"
   ]
  },
  {
   "cell_type": "markdown",
   "metadata": {
    "colab_type": "text",
    "id": "-txDIz5lyVI9"
   },
   "source": [
    "# Compare to least squares solution with data\n",
    "Here we compare to an alterantive aproach, regularied least squares. In this technique, we build an encoding matrix which simulates the data acquisition. Then we minimize:\n",
    "\n",
    "$\\parallel Ex-d \\parallel_2 +  \\lambda \\parallel x \\parallel_2$\n",
    "\n",
    "Where $\\lambda$ is a factor that regularizes the solution when its illposed ( see https://en.wikipedia.org/wiki/Tikhonov_regularization ). The solution to this set of equations is:\n",
    "\n",
    "$ \\widetilde{x} = (E^hE + \\lambda I)^{-1}E^hd$\n",
    "\n",
    "Where I is an identity matrix. Similar to the neural network this is an aproximate solution."
   ]
  },
  {
   "cell_type": "code",
   "execution_count": null,
   "metadata": {
    "colab": {},
    "colab_type": "code",
    "id": "sfsr-k_-yVI_"
   },
   "outputs": [],
   "source": [
    "# Lets also solve this a different way using a matrix inverse\n",
    "def DFT_matrix(N):\n",
    "    i, j = np.meshgrid(np.arange(N), np.arange(N))\n",
    "    omega = np.exp( 2 * math.pi * 1J / N )\n",
    "    W = np.power( omega, i * j ) / N #math.sqrt(N)\n",
    "    return W\n",
    "\n",
    "E = DFT_matrix(32)\n",
    "E = np.fft.fftshift(E,axes=(0,))\n",
    "E = E[idx,:]\n",
    "\n",
    "# Grab the data\n",
    "D = np.matrix.getH(kspace_test[400,:,:])\n",
    "\n",
    "# Solve for psuedo inverse\n",
    "Eh = np.matrix.getH(E)\n",
    "EhE = np.matmul(Eh,E)\n",
    "Ei = np.linalg.inv(EhE + 0.001*np.identity(32))\n",
    "EiEh = np.matmul(Ei,Eh)\n",
    "\n",
    "linear_algebra_prediction = np.transpose(np.matmul(EiEh,D))\n",
    "    \n",
    "plt.figure(figsize=(11, 11), dpi=80, facecolor='w', edgecolor='k')\n",
    "\n",
    "plt.subplot(231)\n",
    "plt.imshow(abs(linear_algebra_prediction),cmap='gray',vmin=0)\n",
    "plt.axis('off')\n",
    "plt.title('Least Squares Solution')\n",
    "plt.subplot(234)\n",
    "plt.imshow(abs(linear_algebra_prediction-act_image),cmap='gray',vmin=0,vmax=0.2)\n",
    "plt.axis('off')\n",
    "plt.title('Difference Least Squares')\n",
    "\n",
    "plt.subplot(232)\n",
    "plt.imshow(np.squeeze(predicted_image),cmap='gray',vmin=0,vmax=1)\n",
    "plt.axis('off')\n",
    "plt.title('Neural Net Prediction')\n",
    "plt.subplot(235)\n",
    "plt.imshow(abs(np.squeeze(predicted_image)-act_image),cmap='gray',vmin=0,vmax=0.2)\n",
    "plt.axis('off')\n",
    "plt.title('Difference Neural Net')\n",
    "\n",
    "plt.subplot(233)\n",
    "plt.imshow(act_image,cmap='gray',vmin=0,vmax=1)\n",
    "plt.axis('off')\n",
    "plt.title('Actual Image')\n",
    "\n",
    "plt.show()\n",
    "\n",
    "print('Image Domain Mean Squared Error NN = ' + str(np.sum(np.square(abs(np.squeeze(predicted_image) - act_image)))) )\n",
    "print('Image Domain Mean Squared Error LS = ' + str(np.sum(np.square(abs(linear_algebra_prediction - act_image)))) )\n",
    "\n",
    "# Lets also get the kspace error\n",
    "kspace_NN = np.matmul(E,np.squeeze(predicted_image))\n",
    "kspace_LA = np.matmul(E,linear_algebra_prediction)\n",
    "\n",
    "# Difference \n",
    "diff_kspace_NN = kspace_NN - D\n",
    "diff_kspace_LA = kspace_LA - D\n",
    "print('Kspace Mean Squared Error NN = ' + str(np.sum(np.square(abs(diff_kspace_NN)))) )\n",
    "print('Kspace Mean Squared Error LS = ' + str(np.sum(np.square(abs(diff_kspace_LA)))) )"
   ]
  },
  {
   "cell_type": "markdown",
   "metadata": {
    "colab_type": "text",
    "id": "bErWlC1oyVJD"
   },
   "source": [
    "# Load real MRI data to test\n",
    "This is actual acquired MRI data from a 48 channel brain scan consisting of 15 slices. The data size is exactly the same width as the cifar100 images we used for training. Just to make things doable in a short time we are keeping everything 1D, as above.  "
   ]
  },
  {
   "cell_type": "code",
   "execution_count": null,
   "metadata": {
    "colab": {},
    "colab_type": "code",
    "id": "J0gm4gHccNYC"
   },
   "outputs": [],
   "source": [
    "# Authenticate User to allow download from drive\n",
    "from google.colab import auth\n",
    "auth.authenticate_user()\n",
    "\n",
    "# Build drive API\n",
    "from googleapiclient.discovery import build\n",
    "drive_service = build('drive', 'v3')"
   ]
  },
  {
   "cell_type": "code",
   "execution_count": null,
   "metadata": {
    "colab": {},
    "colab_type": "code",
    "id": "H6kApWo_iCdW"
   },
   "outputs": [],
   "source": [
    "!wget https://www.dropbox.com/s/1l4z7u062nvlhrz/MRI_Kspace.dat"
   ]
  },
  {
   "cell_type": "code",
   "execution_count": null,
   "metadata": {
    "colab": {},
    "colab_type": "code",
    "id": "7Wsb0va1yVJE"
   },
   "outputs": [],
   "source": [
    "# Load a Kspace dataset from an actual acquisition\n",
    "# From matlab size(Data) -> 256    32    48    15 \n",
    "x_mri = np.fromfile('MRI_Kspace.dat', dtype=np.complex64)\n",
    "\n",
    "# (note the reverse in reshape)\n",
    "x_mri = np.reshape(x_mri,(15,48,32,256))\n",
    "\n",
    "# Get the phase encode dimension into the last dimension\n",
    "x_mri = np.transpose(x_mri,(0,1,3,2))\n",
    "\n",
    "# FFT in the frequency encode dimension which is fully sampled\n",
    "x_mri = np.fft.fftshift(x_mri,axes=(2,))\n",
    "x_mri = np.roll(x_mri,shift=6,axis=2) \n",
    "x_mri = np.fft.fftn(x_mri,axes=(2,))\n",
    "\n",
    "# Show the image\n",
    "plt.figure(figsize=(10,5))\n",
    "plt.subplot(121)\n",
    "plt.imshow(x_mri[1,1,:,:].real,aspect=1/6)\n",
    "plt.axis('off')\n",
    "plt.colorbar()\n",
    "plt.title('Real of Kspace')\n",
    "\n",
    "plt.subplot(122)\n",
    "plt.imshow(x_mri[1,1,:,:].imag,aspect=1/6)\n",
    "plt.axis('off')\n",
    "plt.colorbar()\n",
    "plt.title('Imag of Kspace')\n",
    "plt.show()"
   ]
  },
  {
   "cell_type": "markdown",
   "metadata": {
    "colab_type": "text",
    "id": "TDpA4fbOyVJI"
   },
   "source": [
    "# Run a traditional reconstruction \n",
    "The most common reconstruction on MRI scanners is to just do a discrete Fourier transform of the data. Just a note, the data actually has 48 recievers of the signal. We are taking the sum of sqyares to average these signals."
   ]
  },
  {
   "cell_type": "code",
   "execution_count": null,
   "metadata": {
    "colab": {},
    "colab_type": "code",
    "id": "Ek5-9k5dyVJJ"
   },
   "outputs": [],
   "source": [
    "# Traditional recon of fully sampled data\n",
    "x_mri_full = np.fft.ifftn(x_mri,axes=(3,))\n",
    "\n",
    "# do sum of squares to average coils (detectors)\n",
    "x_mri_full = np.sum(abs(x_mri_full),axis=1)\n",
    "x_mri_full = np.sqrt(x_mri_full)\n",
    "\n",
    "# Make a montage (there are other options)\n",
    "plot_image = montage(x_mri_full[:,64:192,:])  \n",
    "    \n",
    "# Show the image\n",
    "plt.figure(figsize=(20,20))\n",
    "plt.imshow(plot_image,aspect=1/3,interpolation='bilinear',cmap='gray')\n",
    "plt.axis('off')\n",
    "plt.title('DFT of Kspace')\n",
    "plt.show()"
   ]
  },
  {
   "cell_type": "markdown",
   "metadata": {
    "colab_type": "text",
    "id": "1zFZ9MqfyVJL"
   },
   "source": [
    "# Do inference on the real MRI data"
   ]
  },
  {
   "cell_type": "code",
   "execution_count": null,
   "metadata": {
    "colab": {},
    "colab_type": "code",
    "id": "JNKqr0LOyVJM"
   },
   "outputs": [],
   "source": [
    "# Now lets do the inference\n",
    "real_x = x_mri.real\n",
    "imag_x = x_mri.imag\n",
    "real_x = np.reshape(real_x,(-1,32))\n",
    "imag_x = np.reshape(imag_x,(-1,32))\n",
    "x_mri_for_NN = np.stack((real_x,imag_x),axis=2)\n",
    "x_mri_for_NN = np.stack((real_x,imag_x),axis=2)\n",
    "x_mri_for_NN = x_mri_for_NN[:,sampling_mask,:]\n",
    "\n",
    "# Run model\n",
    "y_mri_NN = model.predict(x=x_mri_for_NN)\n",
    "\n",
    "# Reshape\n",
    "y_mri_NN = np.reshape( y_mri_NN,(15,48,256,32))\n",
    "\n",
    "# do sum of squares to average coils (detectors)\n",
    "y_mri_NN = np.sum(abs(y_mri_NN),axis=1)\n",
    "y_mri_NN = np.sqrt(y_mri_NN)\n",
    "\n",
    "# Make a montage (there are other options)\n",
    "plot_image = montage( y_mri_NN[:,64:192,:])\n",
    "\n",
    "# Show the image\n",
    "plt.figure(figsize=(20,20))\n",
    "plt.imshow(plot_image,aspect=1/3,interpolation='bilinear',cmap='gray')\n",
    "plt.axis('off')\n",
    "plt.title('Neural network prediction from Kspace')\n",
    "plt.show()"
   ]
  },
  {
   "cell_type": "code",
   "execution_count": null,
   "metadata": {
    "colab": {},
    "colab_type": "code",
    "id": "DB9r2kdbyVJQ"
   },
   "outputs": [],
   "source": [
    "# Reshape for matrix multiple\n",
    "x_mri_for_LA = np.reshape(x_mri,(-1,32))\n",
    "x_mri_for_LA = x_mri_for_LA[:,sampling_mask]\n",
    "x_mri_for_LA = np.transpose(x_mri_for_LA)\n",
    "\n",
    "\n",
    "# Also do for Least squares estimate\n",
    "y_mri_LA = np.transpose(np.matmul(EiEh,x_mri_for_LA))\n",
    "y_mri_LA = np.fliplr( y_mri_LA )\n",
    "y_mri_LA = np.reshape( y_mri_LA,(15,48,256,32))\n",
    "\n",
    "# do sum of squares to average coils (detectors)\n",
    "y_mri_LA = np.sum(abs(y_mri_LA),axis=1)\n",
    "y_mri_LA = np.sqrt(y_mri_LA)\n",
    "\n",
    "# Make a montage (there are other options)\n",
    "plot_image = montage( y_mri_LA[:,64:192,:])\n",
    "\n",
    "# Show the image\n",
    "plt.figure(figsize=(20,20))\n",
    "plt.imshow(plot_image,aspect=1/3,interpolation='bilinear',cmap='gray')\n",
    "plt.axis('off')\n",
    "plt.title('Linear algebra prediction from Kspace')\n",
    "plt.show()"
   ]
  },
  {
   "cell_type": "markdown",
   "metadata": {
    "colab_type": "text",
    "id": "rR50C3vkyVJT"
   },
   "source": [
    "# Now compare the solutions"
   ]
  },
  {
   "cell_type": "code",
   "execution_count": null,
   "metadata": {
    "colab": {},
    "colab_type": "code",
    "id": "vTsV6JDcyVJT"
   },
   "outputs": [],
   "source": [
    "print('Max signal truth ' + str(np.max(abs(math.sqrt(32)*x_mri_full))))\n",
    "print('Max signal NN ' + str(np.max(abs(y_mri_NN))))\n",
    "print('Max signal LA ' + str(np.max(abs(y_mri_LA)))) \n",
    "\n",
    "diff_LA = y_mri_LA - x_mri_full*math.sqrt(32)\n",
    "diff_NN = y_mri_NN - x_mri_full*math.sqrt(32)\n",
    "print('LA Error = ' + str(np.mean(np.square(abs(diff_LA)))) )\n",
    "print('NN Error = ' + str(np.mean(np.square(abs(diff_NN)))) )\n",
    "\n",
    "plt.figure(figsize=(10,3))\n",
    "plt.subplot(121)\n",
    "plt.imshow(abs(diff_LA[4,64:192,:]),aspect=(1/3),vmax=1000)\n",
    "plt.axis('off')\n",
    "plt.title('Diff Linear Algebra')\n",
    "plt.colorbar()\n",
    "plt.subplot(122)\n",
    "plt.imshow(abs(diff_NN[4,64:192,:]),aspect=(1/3),vmax=1000)\n",
    "plt.axis('off')\n",
    "plt.title('Diff Neural Net')\n",
    "plt.colorbar()\n",
    "plt.show()"
   ]
  }
 ],
 "metadata": {
  "accelerator": "GPU",
  "colab": {
   "collapsed_sections": [],
   "include_colab_link": true,
   "name": "CoLab_AutoMap_Recon.ipynb",
   "provenance": [],
   "toc_visible": true,
   "version": "0.3.2"
  },
  "kernelspec": {
   "display_name": "Python 3",
   "language": "python",
   "name": "python3"
  },
  "language_info": {
   "codemirror_mode": {
    "name": "ipython",
    "version": 3
   },
   "file_extension": ".py",
   "mimetype": "text/x-python",
   "name": "python",
   "nbconvert_exporter": "python",
   "pygments_lexer": "ipython3",
   "version": "3.5.2"
  }
 },
 "nbformat": 4,
 "nbformat_minor": 1
}
